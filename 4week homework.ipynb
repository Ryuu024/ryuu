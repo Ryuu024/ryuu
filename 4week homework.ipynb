{
 "cells": [
  {
   "cell_type": "code",
   "execution_count": 5,
   "id": "d42118ec-46ff-42ea-b5c6-2470ff133c81",
   "metadata": {},
   "outputs": [
    {
     "name": "stdout",
     "output_type": "stream",
     "text": [
      "P$y$t$h$o$n$"
     ]
    }
   ],
   "source": [
    "#5번\n",
    "ss = 'Python'\n",
    "for i in range(0,6):\n",
    "    print(ss[i]+'$', end='')"
   ]
  },
  {
   "cell_type": "code",
   "execution_count": 8,
   "id": "df90706a-7b74-463d-aeb2-7e9c63ec4ab0",
   "metadata": {},
   "outputs": [
    {
     "name": "stdout",
     "output_type": "stream",
     "text": [
      "내용을 거꾸로 출력 --> nohtyP\n"
     ]
    }
   ],
   "source": [
    "#9번\n",
    "inStr, outStr =\"Python\",\"\"\n",
    "strLen = len(inStr)\n",
    "\n",
    "for i in range(0,strLen):\n",
    "     outStr += inStr[strLen - 1 - i]\n",
    "print('내용을 거꾸로 출력 --> %s' %outStr)"
   ]
  },
  {
   "cell_type": "code",
   "execution_count": 14,
   "id": "70d03918-74df-40f4-bb9d-616ada92f2e6",
   "metadata": {},
   "outputs": [
    {
     "data": {
      "text/plain": [
       "'파이선CookBook열공중'"
      ]
     },
     "execution_count": 14,
     "metadata": {},
     "output_type": "execute_result"
    }
   ],
   "source": [
    "#11번\n",
    "import re\n",
    "\n",
    "string = '파이선###CookBook$$$열공중1234'\n",
    "re.sub('[^가-힣A-Za-z]', '', string)\n"
   ]
  },
  {
   "cell_type": "code",
   "execution_count": 7,
   "id": "5cd2462d-2b2b-4914-b271-149e369bc8fb",
   "metadata": {},
   "outputs": [],
   "source": [
    "#13번\n",
    "import turtle\n",
    "import random\n",
    "from tkinter.simpledialog import *\n",
    "import math\n",
    "\n",
    "inStr = ''\n",
    "swidth, sheight = 500, 500\n",
    "tX, tY, txtSize, step = 0, 0, 20, 20  \n",
    "radius, angle, radian = 200, 0, 0\n",
    "\n",
    "turtle.title('거북이가 나선형으로 글자쓰기')\n",
    "turtle.shape('turtle')\n",
    "turtle.setup(width = swidth , height = sheight )\n",
    "turtle.screensize(swidth, sheight)\n",
    "turtle.penup()\n",
    "\n",
    "inStr = askstring('문자열 입력', '거북이 쓸 문자열을 입력')\n",
    "\n",
    "angle = 360*2 / len(inStr) \n",
    "\n",
    "for i,ch in enumerate(inStr):\n",
    "    radian = 3.14*angle/180\n",
    "    \n",
    "    radius -= 3\n",
    "    tX = radius * math.cos(radian)\n",
    "    tY = radius * math.sin(radian)\n",
    "    \n",
    "    r = random.random()\n",
    "    g = random.random()\n",
    "    b = random.random()\n",
    "\n",
    "    turtle.goto(tX, tY)  \n",
    "\n",
    "    turtle.pencolor((r, g, b))  \n",
    "    turtle.write(ch, font=('맑은 고딕', txtSize, 'bold')) \n",
    "    \n",
    "    angle += 360*2 / len(inStr) \n",
    "\n",
    "turtle.done()"
   ]
  },
  {
   "cell_type": "code",
   "execution_count": 26,
   "id": "0fb38203-44c1-415a-9bb9-019334a9d6a6",
   "metadata": {},
   "outputs": [
    {
     "name": "stdout",
     "output_type": "stream",
     "text": [
      "600\n"
     ]
    }
   ],
   "source": [
    "#3번\n",
    "def plus(v1,v2,v3):\n",
    "    result = 0\n",
    "    result = v1 + v2 + v3\n",
    "    return result\n",
    "hap = plus(100,200,300)\n",
    "print(hap)"
   ]
  },
  {
   "cell_type": "code",
   "execution_count": 27,
   "id": "4cc8d6c2-d1b7-4e49-8404-d0b892495323",
   "metadata": {},
   "outputs": [
    {
     "name": "stdout",
     "output_type": "stream",
     "text": [
      "100\n",
      "10\n"
     ]
    }
   ],
   "source": [
    "#4번\n",
    "def f1():\n",
    "    print(var)\n",
    "def f2():\n",
    "    var = 10\n",
    "    print(var)\n",
    "\n",
    "var = 100\n",
    "f1()\n",
    "f2()"
   ]
  },
  {
   "cell_type": "code",
   "execution_count": 28,
   "id": "9525847d-c5c9-47a2-8749-6044a8f142f3",
   "metadata": {},
   "outputs": [
    {
     "name": "stdout",
     "output_type": "stream",
     "text": [
      "5050\n"
     ]
    }
   ],
   "source": [
    "#11번\n",
    "def addNumber(num):  \n",
    "    total = 0\n",
    "    for i in range(num + 1):  \n",
    "        total += i\n",
    "    return total  \n",
    "\n",
    "print(addNumber(100))  "
   ]
  },
  {
   "cell_type": "code",
   "execution_count": 32,
   "id": "230e2d2a-6320-40b9-a152-8c851277ac99",
   "metadata": {},
   "outputs": [
    {
     "name": "stdout",
     "output_type": "stream",
     "text": [
      "매개변수 없이 호출 =>  6\n",
      "매개변수 1개로 호출 =>  6\n",
      "매개변수 2개로 호출 =>  6\n",
      "매개변수 3개로 호출 =>  6\n"
     ]
    }
   ],
   "source": [
    "#8번\n",
    "def myFunc(p1=1, p2=2, p3=3): \n",
    "    ret = p1 + p2 + p3 \n",
    "    return ret  \n",
    "\n",
    "\n",
    "print(\"매개변수 없이 호출 => \", myFunc())\n",
    "print(\"매개변수 1개로 호출 => \", myFunc(1))\n",
    "print(\"매개변수 2개로 호출 => \", myFunc(1, 2))\n",
    "print(\"매개변수 3개로 호출 => \", myFunc(1, 2, 3))"
   ]
  }
 ],
 "metadata": {
  "kernelspec": {
   "display_name": "Python 3 (ipykernel)",
   "language": "python",
   "name": "python3"
  },
  "language_info": {
   "codemirror_mode": {
    "name": "ipython",
    "version": 3
   },
   "file_extension": ".py",
   "mimetype": "text/x-python",
   "name": "python",
   "nbconvert_exporter": "python",
   "pygments_lexer": "ipython3",
   "version": "3.11.7"
  }
 },
 "nbformat": 4,
 "nbformat_minor": 5
}
