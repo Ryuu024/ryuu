{
 "cells": [
  {
   "cell_type": "code",
   "execution_count": 5,
   "id": "f6ae2fa6-0369-4aae-93af-5f93b75ce80d",
   "metadata": {},
   "outputs": [],
   "source": [
    "import turtle\n",
    "import random\n",
    "\n",
    "##함수 선언 부분##\n",
    "def screenLeftClick(x,y):\n",
    "    global r,g,b\n",
    "    turtle.pencolor((r,g,b))\n",
    "    turtle.pendown()\n",
    "    turtle.goto(x,y)\n",
    "\n",
    "def screenRightClick(x,y):\n",
    "    turtle.penup()\n",
    "    turtle.goto(x,y)\n",
    "\n",
    "def screenMidClick(x,y):\n",
    "    global r,g,b\n",
    "    tSize = random.randrange(1,10)\n",
    "    turtle.shapesize(tSize)\n",
    "    r = random.random()\n",
    "    g = random.random()\n",
    "    b = random.random()\n",
    "\n",
    "##변수 선언 부분##\n",
    "pSize = 10\n",
    "r,g,b = 0.0,0.0,0.0\n",
    "\n",
    "##메인 코드 부분##\n",
    "turtle.title('거북이로 그림 그리기')\n",
    "turtle.shape('turtle')\n",
    "turtle.pensize(pSize)\n",
    "\n",
    "turtle.onscreenclick(screenLeftClick,1)\n",
    "turtle.onscreenclick(screenRightClick,2)\n",
    "turtle.onscreenclick(screenMidClick,3)\n",
    "\n",
    "turtle.done()"
   ]
  }
 ],
 "metadata": {
  "kernelspec": {
   "display_name": "Python 3 (ipykernel)",
   "language": "python",
   "name": "python3"
  },
  "language_info": {
   "codemirror_mode": {
    "name": "ipython",
    "version": 3
   },
   "file_extension": ".py",
   "mimetype": "text/x-python",
   "name": "python",
   "nbconvert_exporter": "python",
   "pygments_lexer": "ipython3",
   "version": "3.11.7"
  }
 },
 "nbformat": 4,
 "nbformat_minor": 5
}
