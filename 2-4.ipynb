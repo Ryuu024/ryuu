{
 "cells": [
  {
   "cell_type": "code",
   "execution_count": 2,
   "id": "b1929a23-e4ff-42a9-b076-8546c8e8b712",
   "metadata": {},
   "outputs": [
    {
     "name": "stdin",
     "output_type": "stream",
     "text": [
      "첫 번째 숫자를 입력하세요 :  3\n",
      "두 번째 숫자를 입력하세요 :  5\n"
     ]
    },
    {
     "name": "stdout",
     "output_type": "stream",
     "text": [
      "3 + 5 = 8\n",
      "3 + 5 = -2\n",
      "3 * 5 = 15\n",
      "3 / 5 = 0.6\n"
     ]
    }
   ],
   "source": [
    "a = int(input('첫 번째 숫자를 입력하세요 : '))\n",
    "b = int(input('두 번째 숫자를 입력하세요 : '))\n",
    "result = a + b\n",
    "print(a, '+' ,b,'=',result)\n",
    "result = a - b\n",
    "print(a, '+' ,b,'=',result)\n",
    "result = a*b\n",
    "print(a, '*' ,b,'=',result)\n",
    "result = a/b\n",
    "print(a, '/' ,b,'=',result)\n"
   ]
  },
  {
   "cell_type": "code",
   "execution_count": null,
   "id": "2a74b10a-a3dc-4fee-9392-c56caef28336",
   "metadata": {},
   "outputs": [],
   "source": []
  }
 ],
 "metadata": {
  "kernelspec": {
   "display_name": "Python 3 (ipykernel)",
   "language": "python",
   "name": "python3"
  },
  "language_info": {
   "codemirror_mode": {
    "name": "ipython",
    "version": 3
   },
   "file_extension": ".py",
   "mimetype": "text/x-python",
   "name": "python",
   "nbconvert_exporter": "python",
   "pygments_lexer": "ipython3",
   "version": "3.11.7"
  }
 },
 "nbformat": 4,
 "nbformat_minor": 5
}
