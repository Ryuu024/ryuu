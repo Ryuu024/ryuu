{
 "cells": [
  {
   "cell_type": "code",
   "execution_count": 3,
   "id": "bccca9f5-a76a-4937-b213-daa29952b7d7",
   "metadata": {},
   "outputs": [],
   "source": [
    "#2번\n",
    "class Car:\n",
    "    color =\"\"\n",
    "    speed = 0\n",
    "\n",
    "    def upSpeed(self,value):\n",
    "        self.speed += value\n",
    "    "
   ]
  },
  {
   "cell_type": "code",
   "execution_count": 5,
   "id": "94f9d834-c575-477c-ba9f-2785788eb0f1",
   "metadata": {},
   "outputs": [],
   "source": [
    "#4번\n",
    "class Horse:\n",
    "    speed = 0\n",
    "\n",
    "    def upSpeed(self, value):\n",
    "        self.speed += value\n",
    "        if self.speed > 50:\n",
    "            self.speed = 50"
   ]
  },
  {
   "cell_type": "code",
   "execution_count": 6,
   "id": "69550e3b-3f92-4704-a829-b09bc1b2b825",
   "metadata": {},
   "outputs": [
    {
     "name": "stdout",
     "output_type": "stream",
     "text": [
      "슈퍼 클래스\n",
      "서브 클래스\n"
     ]
    }
   ],
   "source": [
    "#6번\n",
    "class Car:\n",
    "    def method(self):\n",
    "        print(\"슈퍼 클래스\")\n",
    "\n",
    "class Sedan(Car):\n",
    "    def method(self):\n",
    "        print(\"서브 클래스\")\n",
    "\n",
    "myCar = Car()\n",
    "mySedan = Sedan()\n",
    "myCar.method()\n",
    "mySedan.method()"
   ]
  },
  {
   "cell_type": "code",
   "execution_count": 8,
   "id": "c8faeed3-1bd0-425f-94a8-632e64767b70",
   "metadata": {},
   "outputs": [],
   "source": [
    "#7번\n",
    "class Car:\n",
    "    speed = 0\n",
    "\n",
    "    def upSpeed(self,value):\n",
    "        self.speed = self.speed +value\n",
    "\n",
    "class RVCar(Car):\n",
    "    seatNum = 0\n",
    "\n",
    "    def getSeatNum(self):\n",
    "        return self.seatNum"
   ]
  }
 ],
 "metadata": {
  "kernelspec": {
   "display_name": "Python 3 (ipykernel)",
   "language": "python",
   "name": "python3"
  },
  "language_info": {
   "codemirror_mode": {
    "name": "ipython",
    "version": 3
   },
   "file_extension": ".py",
   "mimetype": "text/x-python",
   "name": "python",
   "nbconvert_exporter": "python",
   "pygments_lexer": "ipython3",
   "version": "3.11.7"
  }
 },
 "nbformat": 4,
 "nbformat_minor": 5
}
