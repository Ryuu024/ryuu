{
 "cells": [
  {
   "cell_type": "code",
   "execution_count": 3,
   "id": "cd66a6cc-70f2-48f1-b037-1d6505748e94",
   "metadata": {},
   "outputs": [
    {
     "name": "stdin",
     "output_type": "stream",
     "text": [
      "점수를 입력하세요 :  99\n"
     ]
    },
    {
     "name": "stdout",
     "output_type": "stream",
     "text": [
      "장학생입니다. ^^\n"
     ]
    }
   ],
   "source": [
    "#4\n",
    "score = int(input(\"점수를 입력하세요 : \"))\n",
    "\n",
    "if score >= 90:\n",
    "    print(\"장학생\", end= '')\n",
    "elif score >=60:\n",
    "    print(\"합격\", end= '')\n",
    "else:\n",
    "    print(\" 불합격\", end= '')\n",
    "print(\"입니다. ^^\")\n"
   ]
  },
  {
   "cell_type": "code",
   "execution_count": 1,
   "id": "4fef8c9b-747f-465a-ad3a-97441deb13ee",
   "metadata": {},
   "outputs": [
    {
     "name": "stdout",
     "output_type": "stream",
     "text": [
      "홀수\n",
      "홀수\n",
      "정답 3번\n"
     ]
    }
   ],
   "source": [
    "#5\n",
    "num = 5\n",
    "if num % 2 == 0:\n",
    "    res = \"짝수\"\n",
    "else:\n",
    "    res = \"홀수\"\n",
    "print(res)\n",
    "## 삼항 연산자 ##\n",
    "num = 5\n",
    "res = \"짝수\" if num % 2 ==0 else \"홀수\"\n",
    "print(res)\n",
    "print(\"정답 3번\")"
   ]
  },
  {
   "cell_type": "code",
   "execution_count": 2,
   "id": "fa5bdde9-0484-415b-82ef-50b6e8fcae02",
   "metadata": {},
   "outputs": [
    {
     "name": "stdout",
     "output_type": "stream",
     "text": [
      "nn =  [100, 777, 300, 400, 500]\n",
      "nn =  [100, [444, 555], 300, 400, 500]\n",
      "nn =  [100, 444, 555, 500]\n",
      "nn =  [100, 444]\n"
     ]
    }
   ],
   "source": [
    "#6\n",
    "nn = [100, 200, 300, 400, 500]\n",
    "nn[1] = 777\n",
    "print(\"nn = \", nn)\n",
    "nn[1] = [444,555]\n",
    "print(\"nn = \", nn)\n",
    "nn[1:4] = [444,555]\n",
    "print(\"nn = \", nn)\n",
    "nn[2:] = []\n",
    "print(\"nn = \", nn)"
   ]
  },
  {
   "cell_type": "code",
   "execution_count": 7,
   "id": "2915e46c-1d1c-435c-a063-de98e3129e17",
   "metadata": {},
   "outputs": [
    {
     "name": "stdout",
     "output_type": "stream",
     "text": [
      "nn[4] =  500\n",
      "nn[-1] =  500\n",
      "nn[-2] =  400\n",
      "nn[1:4] =  [200, 300, 400]\n",
      "nn[0:1] =  [100]\n",
      "nn[2:-1] =  [300, 400]\n",
      "nn[0::2] =  [100, 300, 500]\n",
      "nn[::-1] =  [500, 400, 300, 200, 100]\n",
      "nn[::-2] =  [500, 300, 100]\n"
     ]
    }
   ],
   "source": [
    "#5\n",
    "nn = [100, 200, 300, 400, 500]\n",
    "print(\"nn[4] = \", nn[4])\n",
    "print(\"nn[-1] = \", nn[-1])\n",
    "print(\"nn[-2] = \", nn[-2])\n",
    "print(\"nn[1:4] = \", nn[1:4])\n",
    "print(\"nn[0:1] = \", nn[0:1])\n",
    "print(\"nn[2:-1] = \", nn[2:-1])\n",
    "print(\"nn[0::2] = \", nn[0::2])\n",
    "print(\"nn[::-1] = \", nn[::-1])\n",
    "print(\"nn[::-2] = \", nn[::-2])"
   ]
  },
  {
   "cell_type": "code",
   "execution_count": 6,
   "id": "63af6f28-4413-431a-8f22-db46d122174e",
   "metadata": {},
   "outputs": [
    {
     "name": "stdout",
     "output_type": "stream",
     "text": [
      "23088\n"
     ]
    }
   ],
   "source": [
    "#8\n",
    "hap = 0\n",
    "n = 1234\n",
    "\n",
    "while n <  4568:\n",
    "    if n%444 == 0:\n",
    "        hap += n\n",
    "    n = n + 1\n",
    "    \n",
    "print(hap)\n",
    "    "
   ]
  },
  {
   "cell_type": "code",
   "execution_count": 5,
   "id": "d84b5ed2-c402-48a8-8cfb-ee8f34cf6586",
   "metadata": {},
   "outputs": [
    {
     "name": "stdout",
     "output_type": "stream",
     "text": [
      "40722\n"
     ]
    }
   ],
   "source": [
    "#9\n",
    "sum = 0\n",
    "for i in range(3333, 10000,1):\n",
    "    if (i % 1234) == 0:\n",
    "        if sum+i > 100000:\n",
    "            break\n",
    "        sum = sum + i\n",
    "    else:\n",
    "        continue\n",
    "print(sum)"
   ]
  },
  {
   "cell_type": "code",
   "execution_count": 4,
   "id": "170c0fe3-87dc-4db1-8f74-6ca3396f8078",
   "metadata": {},
   "outputs": [
    {
     "name": "stdout",
     "output_type": "stream",
     "text": [
      "[[2, 4], [3, 6]]\n"
     ]
    }
   ],
   "source": [
    "#14\n",
    "myData = [[n * m for n in range(1,3)] for m in range(2,4)]\n",
    "print(myData)"
   ]
  }
 ],
 "metadata": {
  "kernelspec": {
   "display_name": "Python 3 (ipykernel)",
   "language": "python",
   "name": "python3"
  },
  "language_info": {
   "codemirror_mode": {
    "name": "ipython",
    "version": 3
   },
   "file_extension": ".py",
   "mimetype": "text/x-python",
   "name": "python",
   "nbconvert_exporter": "python",
   "pygments_lexer": "ipython3",
   "version": "3.11.7"
  }
 },
 "nbformat": 4,
 "nbformat_minor": 5
}
