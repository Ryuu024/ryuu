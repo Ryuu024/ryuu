{
 "cells": [
  {
   "cell_type": "code",
   "execution_count": null,
   "id": "32271b65-aaf4-4185-af9a-7ae6a33787ce",
   "metadata": {},
   "outputs": [],
   "source": [
    "#1번\n",
    "##입력함수 - input, read,readline,readlines\n",
    "##출력함수 - print,write,writeline"
   ]
  },
  {
   "cell_type": "code",
   "execution_count": null,
   "id": "5e60c7b1-9aac-42ea-83c2-1280f414beeb",
   "metadata": {},
   "outputs": [],
   "source": [
    "#2번\n",
    "# 정답: 1번\n",
    "# A-C-B-D"
   ]
  },
  {
   "cell_type": "code",
   "execution_count": null,
   "id": "bcab7cd6-a19e-4e2d-ba8d-9a31b24e548c",
   "metadata": {},
   "outputs": [],
   "source": [
    "#3번\n",
    "# 정답 : 1번, 3번, 6번"
   ]
  },
  {
   "cell_type": "code",
   "execution_count": null,
   "id": "107e5f66-22ac-4baf-a6d5-309c78c44690",
   "metadata": {},
   "outputs": [],
   "source": [
    "#4번\n",
    "#1번 빈칸 : open\n",
    "#2번 빈칸 : readline\n",
    "#3번 빈칸 : close"
   ]
  },
  {
   "cell_type": "code",
   "execution_count": null,
   "id": "ba3e62ea-6789-470a-858d-8329e1a1e508",
   "metadata": {},
   "outputs": [],
   "source": [
    "#6번\n",
    "#1번 빈칸 : inFp.readlines()\n",
    "#2번 빈칸 : outFp.write(inStr)"
   ]
  }
 ],
 "metadata": {
  "kernelspec": {
   "display_name": "Python 3 (ipykernel)",
   "language": "python",
   "name": "python3"
  },
  "language_info": {
   "codemirror_mode": {
    "name": "ipython",
    "version": 3
   },
   "file_extension": ".py",
   "mimetype": "text/x-python",
   "name": "python",
   "nbconvert_exporter": "python",
   "pygments_lexer": "ipython3",
   "version": "3.11.7"
  }
 },
 "nbformat": 4,
 "nbformat_minor": 5
}
