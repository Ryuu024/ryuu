{
 "cells": [
  {
   "cell_type": "code",
   "execution_count": 1,
   "id": "9e37c07a-87d7-4756-9134-6e8a062524ef",
   "metadata": {},
   "outputs": [
    {
     "name": "stdout",
     "output_type": "stream",
     "text": [
      "100\n",
      "100\n",
      "100\n",
      "50+50\n"
     ]
    }
   ],
   "source": [
    "#01\n",
    "print('100')\n",
    "print(100)\n",
    "print(50+50)\n",
    "print('50+50')\n",
    "      "
   ]
  },
  {
   "cell_type": "code",
   "execution_count": 4,
   "id": "cb27c9a5-5db0-4150-a7a0-a2dd1c80ac66",
   "metadata": {},
   "outputs": [
    {
     "name": "stdout",
     "output_type": "stream",
     "text": [
      "5 / 10 = 0\n"
     ]
    }
   ],
   "source": [
    "#02\n",
    "print('%d / %d = %d' % (5, 10, 5/10))"
   ]
  },
  {
   "cell_type": "code",
   "execution_count": 5,
   "id": "b1f186ef-f2fa-43e5-96d3-9e153b42d3e4",
   "metadata": {},
   "outputs": [
    {
     "name": "stdout",
     "output_type": "stream",
     "text": [
      "0876\n",
      "CookBook\n",
      "123.5\n"
     ]
    }
   ],
   "source": [
    "#03\n",
    "print('%04d' %876)\n",
    "print('%5s'%'CookBook')\n",
    "print('%1.1f'%123.45)"
   ]
  },
  {
   "cell_type": "code",
   "execution_count": 6,
   "id": "63421426-57df-40a0-87df-ca51e06e8d0d",
   "metadata": {},
   "outputs": [
    {
     "name": "stdout",
     "output_type": "stream",
     "text": [
      "333111222\n"
     ]
    }
   ],
   "source": [
    "#04\n",
    "print('{2:d}{0:d}{1:d}'.format(111, 222, 333))"
   ]
  },
  {
   "cell_type": "code",
   "execution_count": 20,
   "id": "f443e542-905b-48a2-bd3d-f7a00d8c032e",
   "metadata": {},
   "outputs": [
    {
     "ename": "SyntaxError",
     "evalue": "unexpected character after line continuation character (2422391027.py, line 5)",
     "output_type": "error",
     "traceback": [
      "\u001b[1;36m  Cell \u001b[1;32mIn[20], line 5\u001b[1;36m\u001b[0m\n\u001b[1;33m    print(\\t)\u001b[0m\n\u001b[1;37m           ^\u001b[0m\n\u001b[1;31mSyntaxError\u001b[0m\u001b[1;31m:\u001b[0m unexpected character after line continuation character\n"
     ]
    }
   ],
   "source": [
    "#05\n",
    "#1. \\t\n",
    "#2. \\b\n",
    "#3. \\\\"
   ]
  },
  {
   "cell_type": "code",
   "execution_count": null,
   "id": "285fa4eb-be81-4a9a-aaa0-da9a04abbd94",
   "metadata": {},
   "outputs": [],
   "source": [
    "#06\n",
    "#bool"
   ]
  },
  {
   "cell_type": "code",
   "execution_count": 23,
   "id": "e644132c-7158-4b5a-bdfd-cca4f2115049",
   "metadata": {},
   "outputs": [],
   "source": [
    "#07\n",
    "num1 = 100\n",
    "#100=num1 ## 오답\n",
    "num1 = num2 = 100\n",
    "#num1 = 100 = num2 = 100  ##오답\n",
    "num1 = num2 = num3 = 100"
   ]
  },
  {
   "cell_type": "code",
   "execution_count": 15,
   "id": "f7f642d8-4ff7-477d-8857-5aad7f9fa87a",
   "metadata": {},
   "outputs": [],
   "source": [
    "#08\n",
    "a=b=10\n",
    "c=d=20\n",
    "# a=b=10=c=d=20\n",
    "##10 위치가 잘못됐음"
   ]
  },
  {
   "cell_type": "code",
   "execution_count": null,
   "id": "9637ec5f-5833-4ed8-a610-9b8152bf192c",
   "metadata": {},
   "outputs": [],
   "source": [
    "#09\n",
    "# 2번 , 4번, 5번"
   ]
  },
  {
   "cell_type": "code",
   "execution_count": null,
   "id": "39d27f99-578f-437f-acdb-9ed6006546e9",
   "metadata": {},
   "outputs": [],
   "source": [
    "#10\n",
    "#1.3\n",
    "#2.10\n",
    "#3.17\n",
    "#4.15"
   ]
  },
  {
   "cell_type": "code",
   "execution_count": null,
   "id": "93fec35c-3f7a-4c27-a3b4-4d6739352a74",
   "metadata": {},
   "outputs": [],
   "source": [
    "#11\n",
    "#1.11\n",
    "#2.26"
   ]
  },
  {
   "cell_type": "code",
   "execution_count": null,
   "id": "e0fc0716-bf3e-4ebc-93bb-840c9277994e",
   "metadata": {},
   "outputs": [],
   "source": [
    "#12\n",
    "#1. hex\n",
    "#2. oct\n",
    "#3. bin"
   ]
  },
  {
   "cell_type": "code",
   "execution_count": 18,
   "id": "41b2e4dd-d84f-4f3c-9624-d34d69cb9083",
   "metadata": {},
   "outputs": [
    {
     "ename": "ValueError",
     "evalue": "invalid literal for int() with base 16: 'AAFG'",
     "output_type": "error",
     "traceback": [
      "\u001b[1;31m---------------------------------------------------------------------------\u001b[0m",
      "\u001b[1;31mValueError\u001b[0m                                Traceback (most recent call last)",
      "Cell \u001b[1;32mIn[18], line 4\u001b[0m\n\u001b[0;32m      1\u001b[0m \u001b[38;5;66;03m#13\u001b[39;00m\n\u001b[0;32m      2\u001b[0m \u001b[38;5;66;03m#int('1002',2) >>1002는 2진수 표현이 아님\u001b[39;00m\n\u001b[0;32m      3\u001b[0m \u001b[38;5;66;03m#int('1008',8)   >> 1008은 8진수 표현이 아님\u001b[39;00m\n\u001b[1;32m----> 4\u001b[0m \u001b[38;5;28mint\u001b[39m(\u001b[38;5;124m'\u001b[39m\u001b[38;5;124mAAFG\u001b[39m\u001b[38;5;124m'\u001b[39m,\u001b[38;5;241m16\u001b[39m)\n",
      "\u001b[1;31mValueError\u001b[0m: invalid literal for int() with base 16: 'AAFG'"
     ]
    }
   ],
   "source": [
    "#13\n",
    "#int('1002',2) >>1002는 2진수 표현이 아님 0또는 1사용\n",
    "#int('1008',8)   >> 1008은 8진수 표현이 아님 0~7까지 사용\n",
    "#int('AAFG',16)   >> 올바른 16진수 표현이 아님 , A~F까지 사용"
   ]
  },
  {
   "cell_type": "code",
   "execution_count": null,
   "id": "3ccedebc-df3c-433d-81dd-e40c8fba6964",
   "metadata": {},
   "outputs": [],
   "source": [
    "#14\n",
    "# 2 , 3, 5"
   ]
  },
  {
   "cell_type": "code",
   "execution_count": 19,
   "id": "72cc9039-ab1d-469b-8216-2a9ddd597592",
   "metadata": {},
   "outputs": [
    {
     "name": "stdout",
     "output_type": "stream",
     "text": [
      "10진수 => 12345678\n",
      "16진수 => 0xbc614e\n",
      "8진수 => 0o57060516\n",
      "2진수 => 0b101111000110000101001110\n"
     ]
    }
   ],
   "source": [
    "#15\n",
    "hex_num = hex(num)\n",
    "oct_num = oct(num)\n",
    "bin_num = bin(num)"
   ]
  }
 ],
 "metadata": {
  "kernelspec": {
   "display_name": "Python 3 (ipykernel)",
   "language": "python",
   "name": "python3"
  },
  "language_info": {
   "codemirror_mode": {
    "name": "ipython",
    "version": 3
   },
   "file_extension": ".py",
   "mimetype": "text/x-python",
   "name": "python",
   "nbconvert_exporter": "python",
   "pygments_lexer": "ipython3",
   "version": "3.11.7"
  }
 },
 "nbformat": 4,
 "nbformat_minor": 5
}
